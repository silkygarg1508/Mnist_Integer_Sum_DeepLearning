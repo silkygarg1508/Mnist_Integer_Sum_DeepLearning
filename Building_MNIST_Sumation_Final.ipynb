{
  "nbformat": 4,
  "nbformat_minor": 0,
  "metadata": {
    "kernelspec": {
      "display_name": "Python 3",
      "language": "python",
      "name": "python3"
    },
    "language_info": {
      "codemirror_mode": {
        "name": "ipython",
        "version": 3
      },
      "file_extension": ".py",
      "mimetype": "text/x-python",
      "name": "python",
      "nbconvert_exporter": "python",
      "pygments_lexer": "ipython3",
      "version": "3.8.3"
    },
    "colab": {
      "name": "Building+a+CNN+_+MNIST_v2.ipynb",
      "provenance": [],
      "collapsed_sections": []
    },
    "accelerator": "GPU"
  },
  "cells": [
    {
      "cell_type": "markdown",
      "metadata": {
        "id": "AvzpSrMyj_6m"
      },
      "source": [
        "# Building a Basic CNN: The MNIST Dataset\n",
        "\n",
        "In this notebook, we will build a simple CNN-based architecture to classify the 10 digits (0-9) of the MNIST dataset. The objective of this notebook is to become familiar with the process of building CNNs in Keras.\n",
        "\n",
        "We will go through the following steps:\n",
        "1. Importing libraries and the dataset\n",
        "2. Data preparation: Train-test split, specifying the shape of the input data etc.\n",
        "3. Building and understanding the CNN architecture \n",
        "4. Fitting and evaluating the model\n",
        "\n",
        "Let's dive in."
      ]
    },
    {
      "cell_type": "markdown",
      "metadata": {
        "id": "fGfS9Rztj_6q"
      },
      "source": [
        "## 1. Importing Libraries and the Dataset\n",
        "\n",
        "Let's load the required libraries. From Keras, we need to import two main components:\n",
        "1. `Sequential` from `keras.models`: `Sequential` is the keras abstraction for creating models with a stack of layers (MLP has multiple hidden layers, CNNs have convolutional layers, etc.). \n",
        "2. Various types of layers from `keras.layers`: These layers are added (one after the other) to the `Sequential` model\n",
        "\n",
        "The keras `backend` is needed for keras to know that you are using tensorflow (not Theano) at the backend (the backend is <a href=\"https://keras.io/backend/\">specified in a JSON file</a>). \n"
      ]
    },
    {
      "cell_type": "code",
      "metadata": {
        "colab": {
          "base_uri": "https://localhost:8080/"
        },
        "id": "jf1AKRTQkFJA",
        "outputId": "10deeade-b721-46bb-dfb7-9a6052aa4dc6"
      },
      "source": [
        "!pip install tensorflow-gpu"
      ],
      "execution_count": 92,
      "outputs": [
        {
          "output_type": "stream",
          "text": [
            "Requirement already satisfied: tensorflow-gpu in /usr/local/lib/python3.7/dist-packages (2.5.0)\n",
            "Requirement already satisfied: absl-py~=0.10 in /usr/local/lib/python3.7/dist-packages (from tensorflow-gpu) (0.12.0)\n",
            "Requirement already satisfied: gast==0.4.0 in /usr/local/lib/python3.7/dist-packages (from tensorflow-gpu) (0.4.0)\n",
            "Requirement already satisfied: protobuf>=3.9.2 in /usr/local/lib/python3.7/dist-packages (from tensorflow-gpu) (3.12.4)\n",
            "Requirement already satisfied: keras-nightly~=2.5.0.dev in /usr/local/lib/python3.7/dist-packages (from tensorflow-gpu) (2.5.0.dev2021032900)\n",
            "Requirement already satisfied: numpy~=1.19.2 in /usr/local/lib/python3.7/dist-packages (from tensorflow-gpu) (1.19.5)\n",
            "Requirement already satisfied: typing-extensions~=3.7.4 in /usr/local/lib/python3.7/dist-packages (from tensorflow-gpu) (3.7.4.3)\n",
            "Requirement already satisfied: flatbuffers~=1.12.0 in /usr/local/lib/python3.7/dist-packages (from tensorflow-gpu) (1.12)\n",
            "Requirement already satisfied: h5py~=3.1.0 in /usr/local/lib/python3.7/dist-packages (from tensorflow-gpu) (3.1.0)\n",
            "Requirement already satisfied: six~=1.15.0 in /usr/local/lib/python3.7/dist-packages (from tensorflow-gpu) (1.15.0)\n",
            "Requirement already satisfied: google-pasta~=0.2 in /usr/local/lib/python3.7/dist-packages (from tensorflow-gpu) (0.2.0)\n",
            "Requirement already satisfied: tensorflow-estimator<2.6.0,>=2.5.0rc0 in /usr/local/lib/python3.7/dist-packages (from tensorflow-gpu) (2.5.0)\n",
            "Requirement already satisfied: wheel~=0.35 in /usr/local/lib/python3.7/dist-packages (from tensorflow-gpu) (0.36.2)\n",
            "Requirement already satisfied: termcolor~=1.1.0 in /usr/local/lib/python3.7/dist-packages (from tensorflow-gpu) (1.1.0)\n",
            "Requirement already satisfied: opt-einsum~=3.3.0 in /usr/local/lib/python3.7/dist-packages (from tensorflow-gpu) (3.3.0)\n",
            "Requirement already satisfied: wrapt~=1.12.1 in /usr/local/lib/python3.7/dist-packages (from tensorflow-gpu) (1.12.1)\n",
            "Requirement already satisfied: astunparse~=1.6.3 in /usr/local/lib/python3.7/dist-packages (from tensorflow-gpu) (1.6.3)\n",
            "Requirement already satisfied: tensorboard~=2.5 in /usr/local/lib/python3.7/dist-packages (from tensorflow-gpu) (2.5.0)\n",
            "Requirement already satisfied: keras-preprocessing~=1.1.2 in /usr/local/lib/python3.7/dist-packages (from tensorflow-gpu) (1.1.2)\n",
            "Requirement already satisfied: grpcio~=1.34.0 in /usr/local/lib/python3.7/dist-packages (from tensorflow-gpu) (1.34.1)\n",
            "Requirement already satisfied: setuptools in /usr/local/lib/python3.7/dist-packages (from protobuf>=3.9.2->tensorflow-gpu) (57.0.0)\n",
            "Requirement already satisfied: cached-property; python_version < \"3.8\" in /usr/local/lib/python3.7/dist-packages (from h5py~=3.1.0->tensorflow-gpu) (1.5.2)\n",
            "Requirement already satisfied: google-auth-oauthlib<0.5,>=0.4.1 in /usr/local/lib/python3.7/dist-packages (from tensorboard~=2.5->tensorflow-gpu) (0.4.4)\n",
            "Requirement already satisfied: werkzeug>=0.11.15 in /usr/local/lib/python3.7/dist-packages (from tensorboard~=2.5->tensorflow-gpu) (1.0.1)\n",
            "Requirement already satisfied: tensorboard-plugin-wit>=1.6.0 in /usr/local/lib/python3.7/dist-packages (from tensorboard~=2.5->tensorflow-gpu) (1.8.0)\n",
            "Requirement already satisfied: google-auth<2,>=1.6.3 in /usr/local/lib/python3.7/dist-packages (from tensorboard~=2.5->tensorflow-gpu) (1.31.0)\n",
            "Requirement already satisfied: markdown>=2.6.8 in /usr/local/lib/python3.7/dist-packages (from tensorboard~=2.5->tensorflow-gpu) (3.3.4)\n",
            "Requirement already satisfied: requests<3,>=2.21.0 in /usr/local/lib/python3.7/dist-packages (from tensorboard~=2.5->tensorflow-gpu) (2.23.0)\n",
            "Requirement already satisfied: tensorboard-data-server<0.7.0,>=0.6.0 in /usr/local/lib/python3.7/dist-packages (from tensorboard~=2.5->tensorflow-gpu) (0.6.1)\n",
            "Requirement already satisfied: requests-oauthlib>=0.7.0 in /usr/local/lib/python3.7/dist-packages (from google-auth-oauthlib<0.5,>=0.4.1->tensorboard~=2.5->tensorflow-gpu) (1.3.0)\n",
            "Requirement already satisfied: cachetools<5.0,>=2.0.0 in /usr/local/lib/python3.7/dist-packages (from google-auth<2,>=1.6.3->tensorboard~=2.5->tensorflow-gpu) (4.2.2)\n",
            "Requirement already satisfied: rsa<5,>=3.1.4; python_version >= \"3.6\" in /usr/local/lib/python3.7/dist-packages (from google-auth<2,>=1.6.3->tensorboard~=2.5->tensorflow-gpu) (4.7.2)\n",
            "Requirement already satisfied: pyasn1-modules>=0.2.1 in /usr/local/lib/python3.7/dist-packages (from google-auth<2,>=1.6.3->tensorboard~=2.5->tensorflow-gpu) (0.2.8)\n",
            "Requirement already satisfied: importlib-metadata; python_version < \"3.8\" in /usr/local/lib/python3.7/dist-packages (from markdown>=2.6.8->tensorboard~=2.5->tensorflow-gpu) (4.5.0)\n",
            "Requirement already satisfied: idna<3,>=2.5 in /usr/local/lib/python3.7/dist-packages (from requests<3,>=2.21.0->tensorboard~=2.5->tensorflow-gpu) (2.10)\n",
            "Requirement already satisfied: certifi>=2017.4.17 in /usr/local/lib/python3.7/dist-packages (from requests<3,>=2.21.0->tensorboard~=2.5->tensorflow-gpu) (2021.5.30)\n",
            "Requirement already satisfied: chardet<4,>=3.0.2 in /usr/local/lib/python3.7/dist-packages (from requests<3,>=2.21.0->tensorboard~=2.5->tensorflow-gpu) (3.0.4)\n",
            "Requirement already satisfied: urllib3!=1.25.0,!=1.25.1,<1.26,>=1.21.1 in /usr/local/lib/python3.7/dist-packages (from requests<3,>=2.21.0->tensorboard~=2.5->tensorflow-gpu) (1.24.3)\n",
            "Requirement already satisfied: oauthlib>=3.0.0 in /usr/local/lib/python3.7/dist-packages (from requests-oauthlib>=0.7.0->google-auth-oauthlib<0.5,>=0.4.1->tensorboard~=2.5->tensorflow-gpu) (3.1.1)\n",
            "Requirement already satisfied: pyasn1>=0.1.3 in /usr/local/lib/python3.7/dist-packages (from rsa<5,>=3.1.4; python_version >= \"3.6\"->google-auth<2,>=1.6.3->tensorboard~=2.5->tensorflow-gpu) (0.4.8)\n",
            "Requirement already satisfied: zipp>=0.5 in /usr/local/lib/python3.7/dist-packages (from importlib-metadata; python_version < \"3.8\"->markdown>=2.6.8->tensorboard~=2.5->tensorflow-gpu) (3.4.1)\n"
          ],
          "name": "stdout"
        }
      ]
    },
    {
      "cell_type": "code",
      "metadata": {
        "id": "pME9dt95j_6r"
      },
      "source": [
        "import numpy as np\n",
        "import random\n",
        "import tensorflow as tf\n",
        "from tensorflow.keras.datasets import mnist\n",
        "from tensorflow.keras import Sequential\n",
        "from tensorflow.keras.layers import Dense, Dropout, Flatten, Conv2D, MaxPooling2D"
      ],
      "execution_count": 93,
      "outputs": []
    },
    {
      "cell_type": "markdown",
      "metadata": {
        "id": "fCKAtNv1j_6s"
      },
      "source": [
        "Let's load the MNIST dataset from `keras.datasets`. The download may take a few minutes."
      ]
    },
    {
      "cell_type": "code",
      "metadata": {
        "id": "2quvSTvxj_6t"
      },
      "source": [
        "# load the dataset into train and test sets\n",
        "(x_train, y_train), (x_test, y_test) = mnist.load_data()"
      ],
      "execution_count": 94,
      "outputs": []
    },
    {
      "cell_type": "code",
      "metadata": {
        "colab": {
          "base_uri": "https://localhost:8080/"
        },
        "id": "kvyt9c4Tj_6t",
        "outputId": "3a2f1906-92c5-4e37-852b-949e308c813f"
      },
      "source": [
        "x_train\n",
        "y_train"
      ],
      "execution_count": 95,
      "outputs": [
        {
          "output_type": "execute_result",
          "data": {
            "text/plain": [
              "array([5, 0, 4, ..., 5, 6, 8], dtype=uint8)"
            ]
          },
          "metadata": {
            "tags": []
          },
          "execution_count": 95
        }
      ]
    },
    {
      "cell_type": "code",
      "metadata": {
        "colab": {
          "base_uri": "https://localhost:8080/"
        },
        "id": "Nv84Lh2bxKVN",
        "outputId": "24f8e9b2-6fb8-4dc2-ddc0-c93762de0fa5"
      },
      "source": [
        "x_train.shape"
      ],
      "execution_count": 96,
      "outputs": [
        {
          "output_type": "execute_result",
          "data": {
            "text/plain": [
              "(60000, 28, 28)"
            ]
          },
          "metadata": {
            "tags": []
          },
          "execution_count": 96
        }
      ]
    },
    {
      "cell_type": "code",
      "metadata": {
        "colab": {
          "base_uri": "https://localhost:8080/"
        },
        "id": "SM69B17-9L8D",
        "outputId": "8c51faea-3201-4ecc-b7a0-186ee1145507"
      },
      "source": [
        "x_train=x_train.reshape(x_train.shape[0],(x_train.shape[1]*x_train.shape[2]))\n",
        "x_train.shape"
      ],
      "execution_count": 97,
      "outputs": [
        {
          "output_type": "execute_result",
          "data": {
            "text/plain": [
              "(60000, 784)"
            ]
          },
          "metadata": {
            "tags": []
          },
          "execution_count": 97
        }
      ]
    },
    {
      "cell_type": "code",
      "metadata": {
        "colab": {
          "base_uri": "https://localhost:8080/"
        },
        "id": "oPI9HqquFdSz",
        "outputId": "7a130ee5-b2e7-4479-ebd3-b68a11c10c2d"
      },
      "source": [
        "x_test=x_test.reshape(x_test.shape[0],(x_test.shape[1]*x_test.shape[2]))\n",
        "x_test.shape"
      ],
      "execution_count": 98,
      "outputs": [
        {
          "output_type": "execute_result",
          "data": {
            "text/plain": [
              "(10000, 784)"
            ]
          },
          "metadata": {
            "tags": []
          },
          "execution_count": 98
        }
      ]
    },
    {
      "cell_type": "code",
      "metadata": {
        "colab": {
          "base_uri": "https://localhost:8080/"
        },
        "id": "HHusWQ6bEAVI",
        "outputId": "dc81cd65-3d1a-4d79-901c-a6e60fbacbad"
      },
      "source": [
        "x_rand_train = np.zeros((x_train.shape[0],1))\n",
        "x_rand_train.shape"
      ],
      "execution_count": 99,
      "outputs": [
        {
          "output_type": "execute_result",
          "data": {
            "text/plain": [
              "(60000, 1)"
            ]
          },
          "metadata": {
            "tags": []
          },
          "execution_count": 99
        }
      ]
    },
    {
      "cell_type": "code",
      "metadata": {
        "colab": {
          "base_uri": "https://localhost:8080/"
        },
        "id": "N4RSVxHx-hOH",
        "outputId": "36385f03-d4aa-43db-cc94-4434cbe1adc9"
      },
      "source": [
        "%%time\n",
        "x_train_new = np.append(x_train,x_rand_train, axis=1)\n",
        "for i in range(x_train_new.shape[0]):\n",
        "  x_train_new[i][784] = np.random.randint(0,10)\n"
      ],
      "execution_count": 100,
      "outputs": [
        {
          "output_type": "stream",
          "text": [
            "CPU times: user 303 ms, sys: 116 ms, total: 419 ms\n",
            "Wall time: 423 ms\n"
          ],
          "name": "stdout"
        }
      ]
    },
    {
      "cell_type": "code",
      "metadata": {
        "colab": {
          "base_uri": "https://localhost:8080/"
        },
        "id": "jpqtdqjykU-V",
        "outputId": "c9169d65-dc7d-4fcc-c917-c9733d582525"
      },
      "source": [
        "x_train_new.shape"
      ],
      "execution_count": 101,
      "outputs": [
        {
          "output_type": "execute_result",
          "data": {
            "text/plain": [
              "(60000, 785)"
            ]
          },
          "metadata": {
            "tags": []
          },
          "execution_count": 101
        }
      ]
    },
    {
      "cell_type": "code",
      "metadata": {
        "id": "WE89_LtNj1YB"
      },
      "source": [
        "#%%time\n",
        "#r1 = np.random.randint(0,10,(60000))\n",
        "#x_train_new[:,-1]=r1\n",
        "#x_train_new[:,-1]"
      ],
      "execution_count": 102,
      "outputs": []
    },
    {
      "cell_type": "code",
      "metadata": {
        "colab": {
          "base_uri": "https://localhost:8080/"
        },
        "id": "TU6vsgLvcCKk",
        "outputId": "891543ea-73cf-44a9-97bd-ae4b7c52c4e4"
      },
      "source": [
        "x_train_new.shape"
      ],
      "execution_count": 103,
      "outputs": [
        {
          "output_type": "execute_result",
          "data": {
            "text/plain": [
              "(60000, 785)"
            ]
          },
          "metadata": {
            "tags": []
          },
          "execution_count": 103
        }
      ]
    },
    {
      "cell_type": "code",
      "metadata": {
        "colab": {
          "base_uri": "https://localhost:8080/"
        },
        "id": "isaCxUWfE0pP",
        "outputId": "c4aa2bc0-4cfc-4f88-8161-5bb5a6a9e7bf"
      },
      "source": [
        "x_rand_test = np.zeros((x_test.shape[0],1))\n",
        "x_rand_test.shape"
      ],
      "execution_count": 104,
      "outputs": [
        {
          "output_type": "execute_result",
          "data": {
            "text/plain": [
              "(10000, 1)"
            ]
          },
          "metadata": {
            "tags": []
          },
          "execution_count": 104
        }
      ]
    },
    {
      "cell_type": "code",
      "metadata": {
        "colab": {
          "base_uri": "https://localhost:8080/"
        },
        "id": "QTXWsDrjFZl-",
        "outputId": "3648fd7c-d1cd-4612-deb4-349b610d34f8"
      },
      "source": [
        "x_test.shape"
      ],
      "execution_count": 105,
      "outputs": [
        {
          "output_type": "execute_result",
          "data": {
            "text/plain": [
              "(10000, 784)"
            ]
          },
          "metadata": {
            "tags": []
          },
          "execution_count": 105
        }
      ]
    },
    {
      "cell_type": "code",
      "metadata": {
        "id": "4oS6pMH6Fk34"
      },
      "source": [
        "#Adding a new column of the number that should be added to the digit extrated from the image for test dataset\n",
        "x_test_new = np.append(x_test,x_rand_test, axis=1)\n",
        "for i in range(x_test_new.shape[0]):\n",
        "  x_test_new[i][784] = np.random.randint(0,10)"
      ],
      "execution_count": 106,
      "outputs": []
    },
    {
      "cell_type": "code",
      "metadata": {
        "colab": {
          "base_uri": "https://localhost:8080/"
        },
        "id": "zFdpxUMO1S3t",
        "outputId": "5cba9131-fe4f-44be-dcf2-9e22f3e0fef9"
      },
      "source": [
        "#Adding a new column of the number that should be the output after summation\n",
        "y_train_new=[]\n",
        "for i in range(y_train.shape[0]):\n",
        "  summation = x_train_new[i][784] + y_train[i]\n",
        "  y_train_new.append([y_train[i],summation])\n",
        "y_train_new = np.array(y_train_new)\n",
        "y_train_new.shape"
      ],
      "execution_count": 107,
      "outputs": [
        {
          "output_type": "execute_result",
          "data": {
            "text/plain": [
              "(60000, 2)"
            ]
          },
          "metadata": {
            "tags": []
          },
          "execution_count": 107
        }
      ]
    },
    {
      "cell_type": "code",
      "metadata": {
        "colab": {
          "base_uri": "https://localhost:8080/"
        },
        "id": "I8ZMQW7TbFFE",
        "outputId": "c6a756a7-dee7-49d3-93e8-931ad791c935"
      },
      "source": [
        "#to verify the logic for one datapoint\n",
        "y_train_new[0]"
      ],
      "execution_count": 108,
      "outputs": [
        {
          "output_type": "execute_result",
          "data": {
            "text/plain": [
              "array([5., 5.])"
            ]
          },
          "metadata": {
            "tags": []
          },
          "execution_count": 108
        }
      ]
    },
    {
      "cell_type": "code",
      "metadata": {
        "colab": {
          "base_uri": "https://localhost:8080/"
        },
        "id": "iiF9Xiu3FJP_",
        "outputId": "256b6aad-6498-46d3-fa59-04bec3012b1b"
      },
      "source": [
        "#Adding a new column of the number that should be the output after summation for test dataset\n",
        "y_test_new=[]\n",
        "for i in range(y_test.shape[0]):\n",
        "  summation = x_test_new[i][784] + y_test[i]\n",
        "  y_test_new.append([y_test[i],summation])\n",
        "y_test_new = np.array(y_test_new)\n",
        "y_test_new.shape"
      ],
      "execution_count": 109,
      "outputs": [
        {
          "output_type": "execute_result",
          "data": {
            "text/plain": [
              "(10000, 2)"
            ]
          },
          "metadata": {
            "tags": []
          },
          "execution_count": 109
        }
      ]
    },
    {
      "cell_type": "code",
      "metadata": {
        "scrolled": false,
        "colab": {
          "base_uri": "https://localhost:8080/"
        },
        "id": "8Cmma1e7j_6v",
        "outputId": "4f391993-4575-4672-a6a9-f1bf04139bbc"
      },
      "source": [
        "print(\"train data\")\n",
        "print(x_train_new.shape)\n",
        "print(y_train_new.shape)\n",
        "print(\"\\n test data\")\n",
        "print(x_test_new.shape)\n",
        "print(y_test_new.shape)"
      ],
      "execution_count": 110,
      "outputs": [
        {
          "output_type": "stream",
          "text": [
            "train data\n",
            "(60000, 785)\n",
            "(60000, 2)\n",
            "\n",
            " test data\n",
            "(10000, 785)\n",
            "(10000, 2)\n"
          ],
          "name": "stdout"
        }
      ]
    },
    {
      "cell_type": "markdown",
      "metadata": {
        "id": "CfiSzQJgj_6w"
      },
      "source": [
        "So we have 60,000 training and 10,000 test images each of size 28 x 28. Note that the images are grayscale and thus are stored as 2D arrays.<br> \n",
        "\n",
        "Also, let's sample only 20k images for training (just to speed up the training a bit)."
      ]
    },
    {
      "cell_type": "code",
      "metadata": {
        "colab": {
          "base_uri": "https://localhost:8080/"
        },
        "id": "Klgma5PSj_6x",
        "outputId": "3d46f7c1-77ed-443e-b3f0-145633465adc"
      },
      "source": [
        "# sample only 20k images for training\n",
        "idx = np.random.randint(x_train_new.shape[0], size=20000) # sample 20k indices from 0-60,000\n",
        "x_train_new = x_train_new[idx, :]\n",
        "y_train_new = y_train_new[idx,:]\n",
        "print(x_train_new.shape)\n",
        "print(y_train_new.shape)"
      ],
      "execution_count": 111,
      "outputs": [
        {
          "output_type": "stream",
          "text": [
            "(20000, 785)\n",
            "(20000, 2)\n"
          ],
          "name": "stdout"
        }
      ]
    },
    {
      "cell_type": "markdown",
      "metadata": {
        "id": "H8Nyd9pLj_6z"
      },
      "source": [
        "## 2. Data Preparation\n",
        "\n",
        "Let's prepare the dataset for feeding to the network. We will do the following three main steps:<br>\n",
        "\n",
        "#### 2.1 Reshape the Data\n",
        "First, let's understand the shape in which the network expects the training data. \n",
        "Since we have 20,000 training samples each of size (28, 28, 1), the training data (`x_train`) needs to be of the shape `(20000, 28, 28, 1)`. If the images were coloured, the shape would have been `(20000, 28, 28, 3)`.\n",
        "\n",
        "Further, each of the 20,000 images have a 0-9 label, so `y_train` needs to be of the shape `(20000, 10)` where each image's label is represented as a 10-d **one-hot encoded vector**.\n",
        "\n",
        "The shapes of `x_test` and `y_test` will be the same as that of `x_train` and `y_train` respectively.\n",
        "\n",
        "#### 2.2 Rescaling (Normalisation)\n",
        "The value of each pixel is between 0-255, so we will **rescale each pixel** by dividing by 255 so that the range becomes 0-1. Recollect <a href=\"https://stats.stackexchange.com/questions/185853/why-do-we-need-to-normalize-the-images-before-we-put-them-into-cnn\">why normalisation is important for training NNs</a>.\n",
        "\n",
        "#### 2.3 Converting Input Data Type: Int to Float\n",
        "The pixels are originally stored as type `int`, but it is advisable to feed the data as `float`. This is not really compulsory, but advisable. You can read <a href=\"https://datascience.stackexchange.com/questions/13636/neural-network-data-type-conversion-float-from-int\">why conversion from int to float is helpful here</a>.\n"
      ]
    },
    {
      "cell_type": "code",
      "metadata": {
        "id": "pe8uctt8j_60"
      },
      "source": [
        "# specify input dimensions of each image\n",
        "img_rows, img_cols = 28, 28\n",
        "#input_shape = (img_rows, img_cols, 1)\n",
        "\n",
        "# batch size, number of classes, epochs\n",
        "batch_size = 128\n",
        "num_classes_1 = 10\n",
        "num_classes_2 = 19\n",
        "epochs = 12"
      ],
      "execution_count": 112,
      "outputs": []
    },
    {
      "cell_type": "markdown",
      "metadata": {
        "id": "OhQ9PTVgj_60"
      },
      "source": [
        "Let's now reshape the array `x_train` from shape `(20000, 28, 28)`to `(20000, 28, 28, 1)`. Analogously for `x_test`."
      ]
    },
    {
      "cell_type": "code",
      "metadata": {
        "colab": {
          "base_uri": "https://localhost:8080/"
        },
        "id": "jQtdjj2tMQdR",
        "outputId": "19e6a2f6-c230-479a-c7db-30e4bf69e920"
      },
      "source": [
        "x_train_new.shape"
      ],
      "execution_count": 113,
      "outputs": [
        {
          "output_type": "execute_result",
          "data": {
            "text/plain": [
              "(20000, 785)"
            ]
          },
          "metadata": {
            "tags": []
          },
          "execution_count": 113
        }
      ]
    },
    {
      "cell_type": "code",
      "metadata": {
        "colab": {
          "base_uri": "https://localhost:8080/"
        },
        "id": "TOadK6q-j_62",
        "outputId": "a71c0981-231e-4661-aa04-6215032c05ca"
      },
      "source": [
        "y_train_new[0]"
      ],
      "execution_count": 114,
      "outputs": [
        {
          "output_type": "execute_result",
          "data": {
            "text/plain": [
              "array([0., 3.])"
            ]
          },
          "metadata": {
            "tags": []
          },
          "execution_count": 114
        }
      ]
    },
    {
      "cell_type": "markdown",
      "metadata": {
        "id": "VnVtQGJJj_63"
      },
      "source": [
        "Now let's reshape `y_train` from `(20000,)` to `(20000, 10)`. This can be conveniently done using the keras' `utils` module."
      ]
    },
    {
      "cell_type": "code",
      "metadata": {
        "colab": {
          "base_uri": "https://localhost:8080/"
        },
        "id": "lPc1pQLzjLTE",
        "outputId": "7cbd273a-3e5e-4a9c-9a38-85998e0d3e53"
      },
      "source": [
        "# Getting two train outputs\n",
        "y_train_new_1=[]\n",
        "y_train_new_2=[]\n",
        "for i in range(y_train_new.shape[0]):\n",
        "  y_train_new_1.append(y_train_new[i][0])\n",
        "  y_train_new_2.append(y_train_new[i][1])\n",
        "\n",
        "print(y_train_new_1[2])\n",
        "print(y_train_new_2[2])"
      ],
      "execution_count": 115,
      "outputs": [
        {
          "output_type": "stream",
          "text": [
            "0.0\n",
            "0.0\n"
          ],
          "name": "stdout"
        }
      ]
    },
    {
      "cell_type": "code",
      "metadata": {
        "colab": {
          "base_uri": "https://localhost:8080/"
        },
        "id": "lLTXEwHzvjKs",
        "outputId": "61d19238-a0c9-4f0b-aa6a-48738c231962"
      },
      "source": [
        "# Getting two test outputs\n",
        "y_test_new_1=[]\n",
        "y_test_new_2=[]\n",
        "for i in range(y_test_new.shape[0]):\n",
        "  y_test_new_1.append(y_test_new[i][0])\n",
        "  y_test_new_2.append(y_test_new[i][1])\n",
        "\n",
        "print(y_test_new_1[1])\n",
        "print(y_test_new_2[1])"
      ],
      "execution_count": 116,
      "outputs": [
        {
          "output_type": "stream",
          "text": [
            "2.0\n",
            "4.0\n"
          ],
          "name": "stdout"
        }
      ]
    },
    {
      "cell_type": "code",
      "metadata": {
        "scrolled": true,
        "colab": {
          "base_uri": "https://localhost:8080/"
        },
        "id": "1keeMNqLj_63",
        "outputId": "4d16ffdc-7445-4c49-a5f2-a80dade9c91d"
      },
      "source": [
        "# convert class labels (from digits) to one-hot encoded vectors\n",
        "\n",
        "y_train_new_1 = tf.keras.utils.to_categorical(y_train_new_1, num_classes_1)\n",
        "y_train_new_2 = tf.keras.utils.to_categorical(y_train_new_2, num_classes_2)\n",
        "\n",
        "#Printing examples\n",
        "print(y_train_new_1[0])\n",
        "print(y_train_new_2[0])"
      ],
      "execution_count": 117,
      "outputs": [
        {
          "output_type": "stream",
          "text": [
            "[1. 0. 0. 0. 0. 0. 0. 0. 0. 0.]\n",
            "[0. 0. 0. 1. 0. 0. 0. 0. 0. 0. 0. 0. 0. 0. 0. 0. 0. 0. 0.]\n"
          ],
          "name": "stdout"
        }
      ]
    },
    {
      "cell_type": "code",
      "metadata": {
        "id": "d-YPNU6Z6dih"
      },
      "source": [
        "y_test_new_1 = tf.keras.utils.to_categorical(y_test_new_1, num_classes_1)\n",
        "y_test_new_2 = tf.keras.utils.to_categorical(y_test_new_2, num_classes_2)"
      ],
      "execution_count": 118,
      "outputs": []
    },
    {
      "cell_type": "markdown",
      "metadata": {
        "id": "ryz_mvvlj_64"
      },
      "source": [
        "Finally, let's convert the data type of `x_train` and `x_test` from int to float and normalise the images."
      ]
    },
    {
      "cell_type": "code",
      "metadata": {
        "colab": {
          "base_uri": "https://localhost:8080/"
        },
        "id": "38XsyqNVj_64",
        "outputId": "7cc0b284-ee38-46f7-972e-9112b27a53e6"
      },
      "source": [
        "# originally, the pixels are stored as ints\n",
        "x_train_new.dtype"
      ],
      "execution_count": 119,
      "outputs": [
        {
          "output_type": "execute_result",
          "data": {
            "text/plain": [
              "dtype('float64')"
            ]
          },
          "metadata": {
            "tags": []
          },
          "execution_count": 119
        }
      ]
    },
    {
      "cell_type": "code",
      "metadata": {
        "id": "ur91NsuSGpUP"
      },
      "source": [
        "x_train_new= x_train_new.astype('float32')\n",
        "x_train_new /= 255"
      ],
      "execution_count": 120,
      "outputs": []
    },
    {
      "cell_type": "code",
      "metadata": {
        "id": "H27wZaelG1hs"
      },
      "source": [
        "x_test_new= x_test_new.astype('float32')\n",
        "x_test_new /= 255"
      ],
      "execution_count": 121,
      "outputs": []
    },
    {
      "cell_type": "markdown",
      "metadata": {
        "id": "sifMetVyj_65"
      },
      "source": [
        "## 3. Building the Model"
      ]
    },
    {
      "cell_type": "code",
      "metadata": {
        "id": "7UhbFjtI33Kk"
      },
      "source": [
        "# Input Parameters\n",
        "n_input = 784 # number of features\n",
        "n_hidden_1 = 300\n",
        "n_hidden_2 = 100\n",
        "n_hidden_3 = 100\n",
        "n_hidden_4 = 200\n",
        "num_digits_1 = 10\n",
        "num_digits_2 = 19"
      ],
      "execution_count": 122,
      "outputs": []
    },
    {
      "cell_type": "code",
      "metadata": {
        "id": "QWUcFw0H4DEh"
      },
      "source": [
        "import tensorflow as tf\n",
        "Inp = tf.keras.Input(shape=(784,), name=\"Inp\")\n",
        "x = Dense(n_hidden_1, activation='relu', name = \"Hidden_Layer_1\")(Inp)\n",
        "x = Dense(n_hidden_2, activation='relu', name = \"Hidden_Layer_2\")(x)\n",
        "x = Dense(n_hidden_3, activation='relu', name = \"Hidden_Layer_3\")(x)\n",
        "x = Dense(n_hidden_4, activation='relu', name = \"Hidden_Layer_4\")(x)\n",
        "output = Dense(num_digits_1, activation='softmax', name = \"Output_Layer\")(x)"
      ],
      "execution_count": 123,
      "outputs": []
    },
    {
      "cell_type": "code",
      "metadata": {
        "colab": {
          "base_uri": "https://localhost:8080/"
        },
        "id": "oORnYoT240u1",
        "outputId": "5562245b-6491-4984-9418-d245b387d067"
      },
      "source": [
        "# Our model would have '6' layers - input layer, 4 hidden layer and 1 output layer\n",
        "model = tf.keras.Model(Inp, output)\n",
        "model.summary() "
      ],
      "execution_count": 124,
      "outputs": [
        {
          "output_type": "stream",
          "text": [
            "Model: \"model_3\"\n",
            "_________________________________________________________________\n",
            "Layer (type)                 Output Shape              Param #   \n",
            "=================================================================\n",
            "Inp (InputLayer)             [(None, 784)]             0         \n",
            "_________________________________________________________________\n",
            "Hidden_Layer_1 (Dense)       (None, 300)               235500    \n",
            "_________________________________________________________________\n",
            "Hidden_Layer_2 (Dense)       (None, 100)               30100     \n",
            "_________________________________________________________________\n",
            "Hidden_Layer_3 (Dense)       (None, 100)               10100     \n",
            "_________________________________________________________________\n",
            "Hidden_Layer_4 (Dense)       (None, 200)               20200     \n",
            "_________________________________________________________________\n",
            "Output_Layer (Dense)         (None, 10)                2010      \n",
            "=================================================================\n",
            "Total params: 297,910\n",
            "Trainable params: 297,910\n",
            "Non-trainable params: 0\n",
            "_________________________________________________________________\n"
          ],
          "name": "stdout"
        }
      ]
    },
    {
      "cell_type": "code",
      "metadata": {
        "colab": {
          "base_uri": "https://localhost:8080/"
        },
        "id": "8fngG5q047tR",
        "outputId": "54789f94-7c1e-4813-fe86-513d23e823b8"
      },
      "source": [
        "# Insert Hyperparameters\n",
        "learning_rate = 0.01\n",
        "training_epochs = 100\n",
        "batch_size = 20\n",
        "sgd = tf.keras.optimizers.SGD(lr=learning_rate)"
      ],
      "execution_count": 125,
      "outputs": [
        {
          "output_type": "stream",
          "text": [
            "/usr/local/lib/python3.7/dist-packages/tensorflow/python/keras/optimizer_v2/optimizer_v2.py:375: UserWarning: The `lr` argument is deprecated, use `learning_rate` instead.\n",
            "  \"The `lr` argument is deprecated, use `learning_rate` instead.\")\n"
          ],
          "name": "stderr"
        }
      ]
    },
    {
      "cell_type": "code",
      "metadata": {
        "id": "uw9qpyiz490R"
      },
      "source": [
        "# We rely on the plain vanilla Stochastic Gradient Descent as our optimizing methodology\n",
        "model.compile(loss='categorical_crossentropy',\n",
        "              optimizer='sgd',\n",
        "              metrics=['accuracy'])"
      ],
      "execution_count": 126,
      "outputs": []
    },
    {
      "cell_type": "code",
      "metadata": {
        "id": "laAfxtV55BTo"
      },
      "source": [
        "#history1 = model.fit(x_train_new, y_train_new_2,\n",
        " #                    batch_size = batch_size,\n",
        "  #                   epochs = training_epochs,\n",
        "   #                  verbose = 2,\n",
        "    #                 validation_data=(x_test_new, y_test_new_2))"
      ],
      "execution_count": 127,
      "outputs": []
    },
    {
      "cell_type": "code",
      "metadata": {
        "colab": {
          "base_uri": "https://localhost:8080/"
        },
        "id": "iAkVUEvbSpp-",
        "outputId": "850a13e2-fda4-416f-d496-0ab338329643"
      },
      "source": [
        "x_train_new.shape\n",
        "x_train_new[:,:784].shape"
      ],
      "execution_count": 128,
      "outputs": [
        {
          "output_type": "execute_result",
          "data": {
            "text/plain": [
              "(20000, 784)"
            ]
          },
          "metadata": {
            "tags": []
          },
          "execution_count": 128
        }
      ]
    },
    {
      "cell_type": "code",
      "metadata": {
        "colab": {
          "base_uri": "https://localhost:8080/"
        },
        "id": "L0IQ9BzMTcEO",
        "outputId": "6c0dff96-a7c4-448c-e8c2-75bdfe6418de"
      },
      "source": [
        "x_test_new.shape\n",
        "x_test_new[:,:784].shape\n",
        "y_test_new_1.shape"
      ],
      "execution_count": 129,
      "outputs": [
        {
          "output_type": "execute_result",
          "data": {
            "text/plain": [
              "(10000, 10)"
            ]
          },
          "metadata": {
            "tags": []
          },
          "execution_count": 129
        }
      ]
    },
    {
      "cell_type": "code",
      "metadata": {
        "colab": {
          "base_uri": "https://localhost:8080/"
        },
        "id": "IwW-usK5SAY8",
        "outputId": "7cebe69a-0dd1-4aea-f349-4ccff220be70"
      },
      "source": [
        "history1 = model.fit(x_train_new[:,:784], y_train_new_1,\n",
        "                     batch_size = batch_size,\n",
        "                     epochs = training_epochs,\n",
        "                     verbose = 2,\n",
        "                     validation_data=(x_test_new[:,:784], y_test_new_1))"
      ],
      "execution_count": 130,
      "outputs": [
        {
          "output_type": "stream",
          "text": [
            "Epoch 1/100\n",
            "1000/1000 - 4s - loss: 0.9960 - accuracy: 0.7217 - val_loss: 0.3634 - val_accuracy: 0.8980\n",
            "Epoch 2/100\n",
            "1000/1000 - 3s - loss: 0.3199 - accuracy: 0.9078 - val_loss: 0.2722 - val_accuracy: 0.9208\n",
            "Epoch 3/100\n",
            "1000/1000 - 3s - loss: 0.2366 - accuracy: 0.9311 - val_loss: 0.2436 - val_accuracy: 0.9313\n",
            "Epoch 4/100\n",
            "1000/1000 - 3s - loss: 0.1891 - accuracy: 0.9447 - val_loss: 0.2325 - val_accuracy: 0.9288\n",
            "Epoch 5/100\n",
            "1000/1000 - 3s - loss: 0.1539 - accuracy: 0.9541 - val_loss: 0.1943 - val_accuracy: 0.9450\n",
            "Epoch 6/100\n",
            "1000/1000 - 4s - loss: 0.1273 - accuracy: 0.9635 - val_loss: 0.1813 - val_accuracy: 0.9458\n",
            "Epoch 7/100\n",
            "1000/1000 - 3s - loss: 0.1072 - accuracy: 0.9683 - val_loss: 0.1632 - val_accuracy: 0.9524\n",
            "Epoch 8/100\n",
            "1000/1000 - 3s - loss: 0.0904 - accuracy: 0.9748 - val_loss: 0.1613 - val_accuracy: 0.9542\n",
            "Epoch 9/100\n",
            "1000/1000 - 3s - loss: 0.0771 - accuracy: 0.9790 - val_loss: 0.1541 - val_accuracy: 0.9562\n",
            "Epoch 10/100\n",
            "1000/1000 - 3s - loss: 0.0648 - accuracy: 0.9839 - val_loss: 0.1529 - val_accuracy: 0.9551\n",
            "Epoch 11/100\n",
            "1000/1000 - 3s - loss: 0.0561 - accuracy: 0.9848 - val_loss: 0.1653 - val_accuracy: 0.9549\n",
            "Epoch 12/100\n",
            "1000/1000 - 3s - loss: 0.0464 - accuracy: 0.9890 - val_loss: 0.1426 - val_accuracy: 0.9601\n",
            "Epoch 13/100\n",
            "1000/1000 - 3s - loss: 0.0401 - accuracy: 0.9906 - val_loss: 0.1385 - val_accuracy: 0.9618\n",
            "Epoch 14/100\n",
            "1000/1000 - 4s - loss: 0.0327 - accuracy: 0.9926 - val_loss: 0.1551 - val_accuracy: 0.9554\n",
            "Epoch 15/100\n",
            "1000/1000 - 3s - loss: 0.0274 - accuracy: 0.9941 - val_loss: 0.1482 - val_accuracy: 0.9600\n",
            "Epoch 16/100\n",
            "1000/1000 - 3s - loss: 0.0232 - accuracy: 0.9953 - val_loss: 0.1436 - val_accuracy: 0.9625\n",
            "Epoch 17/100\n",
            "1000/1000 - 3s - loss: 0.0195 - accuracy: 0.9962 - val_loss: 0.1493 - val_accuracy: 0.9599\n",
            "Epoch 18/100\n",
            "1000/1000 - 3s - loss: 0.0160 - accuracy: 0.9973 - val_loss: 0.1404 - val_accuracy: 0.9630\n",
            "Epoch 19/100\n",
            "1000/1000 - 3s - loss: 0.0127 - accuracy: 0.9983 - val_loss: 0.1469 - val_accuracy: 0.9621\n",
            "Epoch 20/100\n",
            "1000/1000 - 3s - loss: 0.0111 - accuracy: 0.9986 - val_loss: 0.1460 - val_accuracy: 0.9635\n",
            "Epoch 21/100\n",
            "1000/1000 - 3s - loss: 0.0090 - accuracy: 0.9987 - val_loss: 0.1517 - val_accuracy: 0.9627\n",
            "Epoch 22/100\n",
            "1000/1000 - 3s - loss: 0.0078 - accuracy: 0.9990 - val_loss: 0.1494 - val_accuracy: 0.9639\n",
            "Epoch 23/100\n",
            "1000/1000 - 3s - loss: 0.0063 - accuracy: 0.9993 - val_loss: 0.1584 - val_accuracy: 0.9613\n",
            "Epoch 24/100\n",
            "1000/1000 - 3s - loss: 0.0052 - accuracy: 0.9997 - val_loss: 0.1517 - val_accuracy: 0.9646\n",
            "Epoch 25/100\n",
            "1000/1000 - 3s - loss: 0.0043 - accuracy: 0.9998 - val_loss: 0.1509 - val_accuracy: 0.9639\n",
            "Epoch 26/100\n",
            "1000/1000 - 3s - loss: 0.0038 - accuracy: 0.9998 - val_loss: 0.1533 - val_accuracy: 0.9641\n",
            "Epoch 27/100\n",
            "1000/1000 - 3s - loss: 0.0033 - accuracy: 0.9999 - val_loss: 0.1549 - val_accuracy: 0.9635\n",
            "Epoch 28/100\n",
            "1000/1000 - 3s - loss: 0.0030 - accuracy: 0.9998 - val_loss: 0.1588 - val_accuracy: 0.9631\n",
            "Epoch 29/100\n",
            "1000/1000 - 3s - loss: 0.0026 - accuracy: 0.9999 - val_loss: 0.1579 - val_accuracy: 0.9642\n",
            "Epoch 30/100\n",
            "1000/1000 - 3s - loss: 0.0023 - accuracy: 1.0000 - val_loss: 0.1590 - val_accuracy: 0.9642\n",
            "Epoch 31/100\n",
            "1000/1000 - 3s - loss: 0.0021 - accuracy: 0.9999 - val_loss: 0.1644 - val_accuracy: 0.9637\n",
            "Epoch 32/100\n",
            "1000/1000 - 3s - loss: 0.0020 - accuracy: 0.9999 - val_loss: 0.1618 - val_accuracy: 0.9637\n",
            "Epoch 33/100\n",
            "1000/1000 - 3s - loss: 0.0018 - accuracy: 1.0000 - val_loss: 0.1634 - val_accuracy: 0.9638\n",
            "Epoch 34/100\n",
            "1000/1000 - 3s - loss: 0.0016 - accuracy: 1.0000 - val_loss: 0.1643 - val_accuracy: 0.9641\n",
            "Epoch 35/100\n",
            "1000/1000 - 3s - loss: 0.0015 - accuracy: 1.0000 - val_loss: 0.1671 - val_accuracy: 0.9647\n",
            "Epoch 36/100\n",
            "1000/1000 - 3s - loss: 0.0014 - accuracy: 1.0000 - val_loss: 0.1675 - val_accuracy: 0.9643\n",
            "Epoch 37/100\n",
            "1000/1000 - 3s - loss: 0.0013 - accuracy: 1.0000 - val_loss: 0.1665 - val_accuracy: 0.9640\n",
            "Epoch 38/100\n",
            "1000/1000 - 3s - loss: 0.0013 - accuracy: 1.0000 - val_loss: 0.1681 - val_accuracy: 0.9644\n",
            "Epoch 39/100\n",
            "1000/1000 - 3s - loss: 0.0012 - accuracy: 1.0000 - val_loss: 0.1695 - val_accuracy: 0.9643\n",
            "Epoch 40/100\n",
            "1000/1000 - 3s - loss: 0.0011 - accuracy: 1.0000 - val_loss: 0.1723 - val_accuracy: 0.9646\n",
            "Epoch 41/100\n",
            "1000/1000 - 3s - loss: 0.0011 - accuracy: 1.0000 - val_loss: 0.1713 - val_accuracy: 0.9644\n",
            "Epoch 42/100\n",
            "1000/1000 - 3s - loss: 0.0010 - accuracy: 1.0000 - val_loss: 0.1714 - val_accuracy: 0.9638\n",
            "Epoch 43/100\n",
            "1000/1000 - 3s - loss: 9.4749e-04 - accuracy: 1.0000 - val_loss: 0.1725 - val_accuracy: 0.9637\n",
            "Epoch 44/100\n",
            "1000/1000 - 3s - loss: 9.1187e-04 - accuracy: 1.0000 - val_loss: 0.1728 - val_accuracy: 0.9635\n",
            "Epoch 45/100\n",
            "1000/1000 - 3s - loss: 8.7379e-04 - accuracy: 1.0000 - val_loss: 0.1739 - val_accuracy: 0.9638\n",
            "Epoch 46/100\n",
            "1000/1000 - 3s - loss: 8.2783e-04 - accuracy: 1.0000 - val_loss: 0.1738 - val_accuracy: 0.9639\n",
            "Epoch 47/100\n",
            "1000/1000 - 3s - loss: 7.9643e-04 - accuracy: 1.0000 - val_loss: 0.1754 - val_accuracy: 0.9643\n",
            "Epoch 48/100\n",
            "1000/1000 - 3s - loss: 7.5818e-04 - accuracy: 1.0000 - val_loss: 0.1756 - val_accuracy: 0.9639\n",
            "Epoch 49/100\n",
            "1000/1000 - 3s - loss: 7.3209e-04 - accuracy: 1.0000 - val_loss: 0.1766 - val_accuracy: 0.9644\n",
            "Epoch 50/100\n",
            "1000/1000 - 3s - loss: 7.0776e-04 - accuracy: 1.0000 - val_loss: 0.1774 - val_accuracy: 0.9638\n",
            "Epoch 51/100\n",
            "1000/1000 - 3s - loss: 6.8346e-04 - accuracy: 1.0000 - val_loss: 0.1778 - val_accuracy: 0.9639\n",
            "Epoch 52/100\n",
            "1000/1000 - 3s - loss: 6.5236e-04 - accuracy: 1.0000 - val_loss: 0.1796 - val_accuracy: 0.9643\n",
            "Epoch 53/100\n",
            "1000/1000 - 3s - loss: 6.3703e-04 - accuracy: 1.0000 - val_loss: 0.1797 - val_accuracy: 0.9641\n",
            "Epoch 54/100\n",
            "1000/1000 - 3s - loss: 6.1153e-04 - accuracy: 1.0000 - val_loss: 0.1799 - val_accuracy: 0.9635\n",
            "Epoch 55/100\n",
            "1000/1000 - 3s - loss: 5.9345e-04 - accuracy: 1.0000 - val_loss: 0.1803 - val_accuracy: 0.9641\n",
            "Epoch 56/100\n",
            "1000/1000 - 3s - loss: 5.7049e-04 - accuracy: 1.0000 - val_loss: 0.1814 - val_accuracy: 0.9643\n",
            "Epoch 57/100\n",
            "1000/1000 - 3s - loss: 5.5418e-04 - accuracy: 1.0000 - val_loss: 0.1813 - val_accuracy: 0.9638\n",
            "Epoch 58/100\n",
            "1000/1000 - 3s - loss: 5.3913e-04 - accuracy: 1.0000 - val_loss: 0.1819 - val_accuracy: 0.9640\n",
            "Epoch 59/100\n",
            "1000/1000 - 3s - loss: 5.2255e-04 - accuracy: 1.0000 - val_loss: 0.1828 - val_accuracy: 0.9638\n",
            "Epoch 60/100\n",
            "1000/1000 - 3s - loss: 5.0827e-04 - accuracy: 1.0000 - val_loss: 0.1831 - val_accuracy: 0.9638\n",
            "Epoch 61/100\n",
            "1000/1000 - 3s - loss: 4.9086e-04 - accuracy: 1.0000 - val_loss: 0.1834 - val_accuracy: 0.9642\n",
            "Epoch 62/100\n",
            "1000/1000 - 3s - loss: 4.7893e-04 - accuracy: 1.0000 - val_loss: 0.1841 - val_accuracy: 0.9639\n",
            "Epoch 63/100\n",
            "1000/1000 - 3s - loss: 4.6345e-04 - accuracy: 1.0000 - val_loss: 0.1844 - val_accuracy: 0.9637\n",
            "Epoch 64/100\n",
            "1000/1000 - 3s - loss: 4.5320e-04 - accuracy: 1.0000 - val_loss: 0.1849 - val_accuracy: 0.9638\n",
            "Epoch 65/100\n",
            "1000/1000 - 3s - loss: 4.4176e-04 - accuracy: 1.0000 - val_loss: 0.1857 - val_accuracy: 0.9638\n",
            "Epoch 66/100\n",
            "1000/1000 - 3s - loss: 4.2984e-04 - accuracy: 1.0000 - val_loss: 0.1856 - val_accuracy: 0.9639\n",
            "Epoch 67/100\n",
            "1000/1000 - 3s - loss: 4.1872e-04 - accuracy: 1.0000 - val_loss: 0.1865 - val_accuracy: 0.9640\n",
            "Epoch 68/100\n",
            "1000/1000 - 3s - loss: 4.0639e-04 - accuracy: 1.0000 - val_loss: 0.1875 - val_accuracy: 0.9639\n",
            "Epoch 69/100\n",
            "1000/1000 - 3s - loss: 3.9833e-04 - accuracy: 1.0000 - val_loss: 0.1870 - val_accuracy: 0.9636\n",
            "Epoch 70/100\n",
            "1000/1000 - 3s - loss: 3.8836e-04 - accuracy: 1.0000 - val_loss: 0.1876 - val_accuracy: 0.9638\n",
            "Epoch 71/100\n",
            "1000/1000 - 3s - loss: 3.8119e-04 - accuracy: 1.0000 - val_loss: 0.1883 - val_accuracy: 0.9635\n",
            "Epoch 72/100\n",
            "1000/1000 - 3s - loss: 3.7112e-04 - accuracy: 1.0000 - val_loss: 0.1883 - val_accuracy: 0.9640\n",
            "Epoch 73/100\n",
            "1000/1000 - 3s - loss: 3.6372e-04 - accuracy: 1.0000 - val_loss: 0.1890 - val_accuracy: 0.9640\n",
            "Epoch 74/100\n",
            "1000/1000 - 3s - loss: 3.5515e-04 - accuracy: 1.0000 - val_loss: 0.1894 - val_accuracy: 0.9638\n",
            "Epoch 75/100\n",
            "1000/1000 - 3s - loss: 3.4782e-04 - accuracy: 1.0000 - val_loss: 0.1898 - val_accuracy: 0.9636\n",
            "Epoch 76/100\n",
            "1000/1000 - 3s - loss: 3.4075e-04 - accuracy: 1.0000 - val_loss: 0.1900 - val_accuracy: 0.9640\n",
            "Epoch 77/100\n",
            "1000/1000 - 3s - loss: 3.3262e-04 - accuracy: 1.0000 - val_loss: 0.1902 - val_accuracy: 0.9639\n",
            "Epoch 78/100\n",
            "1000/1000 - 3s - loss: 3.2568e-04 - accuracy: 1.0000 - val_loss: 0.1910 - val_accuracy: 0.9633\n",
            "Epoch 79/100\n",
            "1000/1000 - 3s - loss: 3.1949e-04 - accuracy: 1.0000 - val_loss: 0.1912 - val_accuracy: 0.9638\n",
            "Epoch 80/100\n",
            "1000/1000 - 3s - loss: 3.1303e-04 - accuracy: 1.0000 - val_loss: 0.1918 - val_accuracy: 0.9642\n",
            "Epoch 81/100\n",
            "1000/1000 - 3s - loss: 3.0711e-04 - accuracy: 1.0000 - val_loss: 0.1917 - val_accuracy: 0.9639\n",
            "Epoch 82/100\n",
            "1000/1000 - 3s - loss: 2.9997e-04 - accuracy: 1.0000 - val_loss: 0.1921 - val_accuracy: 0.9636\n",
            "Epoch 83/100\n",
            "1000/1000 - 3s - loss: 2.9589e-04 - accuracy: 1.0000 - val_loss: 0.1924 - val_accuracy: 0.9641\n",
            "Epoch 84/100\n",
            "1000/1000 - 4s - loss: 2.8923e-04 - accuracy: 1.0000 - val_loss: 0.1932 - val_accuracy: 0.9635\n",
            "Epoch 85/100\n",
            "1000/1000 - 3s - loss: 2.8477e-04 - accuracy: 1.0000 - val_loss: 0.1929 - val_accuracy: 0.9637\n",
            "Epoch 86/100\n",
            "1000/1000 - 3s - loss: 2.7872e-04 - accuracy: 1.0000 - val_loss: 0.1936 - val_accuracy: 0.9640\n",
            "Epoch 87/100\n",
            "1000/1000 - 3s - loss: 2.7398e-04 - accuracy: 1.0000 - val_loss: 0.1940 - val_accuracy: 0.9633\n",
            "Epoch 88/100\n",
            "1000/1000 - 3s - loss: 2.6953e-04 - accuracy: 1.0000 - val_loss: 0.1940 - val_accuracy: 0.9639\n",
            "Epoch 89/100\n",
            "1000/1000 - 3s - loss: 2.6542e-04 - accuracy: 1.0000 - val_loss: 0.1943 - val_accuracy: 0.9638\n",
            "Epoch 90/100\n",
            "1000/1000 - 3s - loss: 2.6020e-04 - accuracy: 1.0000 - val_loss: 0.1948 - val_accuracy: 0.9639\n",
            "Epoch 91/100\n",
            "1000/1000 - 3s - loss: 2.5576e-04 - accuracy: 1.0000 - val_loss: 0.1948 - val_accuracy: 0.9638\n",
            "Epoch 92/100\n",
            "1000/1000 - 3s - loss: 2.5163e-04 - accuracy: 1.0000 - val_loss: 0.1956 - val_accuracy: 0.9640\n",
            "Epoch 93/100\n",
            "1000/1000 - 3s - loss: 2.4757e-04 - accuracy: 1.0000 - val_loss: 0.1955 - val_accuracy: 0.9637\n",
            "Epoch 94/100\n",
            "1000/1000 - 4s - loss: 2.4331e-04 - accuracy: 1.0000 - val_loss: 0.1960 - val_accuracy: 0.9639\n",
            "Epoch 95/100\n",
            "1000/1000 - 3s - loss: 2.3983e-04 - accuracy: 1.0000 - val_loss: 0.1958 - val_accuracy: 0.9639\n",
            "Epoch 96/100\n",
            "1000/1000 - 3s - loss: 2.3546e-04 - accuracy: 1.0000 - val_loss: 0.1964 - val_accuracy: 0.9639\n",
            "Epoch 97/100\n",
            "1000/1000 - 3s - loss: 2.3211e-04 - accuracy: 1.0000 - val_loss: 0.1965 - val_accuracy: 0.9642\n",
            "Epoch 98/100\n",
            "1000/1000 - 3s - loss: 2.2819e-04 - accuracy: 1.0000 - val_loss: 0.1965 - val_accuracy: 0.9637\n",
            "Epoch 99/100\n",
            "1000/1000 - 3s - loss: 2.2497e-04 - accuracy: 1.0000 - val_loss: 0.1973 - val_accuracy: 0.9639\n",
            "Epoch 100/100\n",
            "1000/1000 - 4s - loss: 2.2156e-04 - accuracy: 1.0000 - val_loss: 0.1978 - val_accuracy: 0.9642\n"
          ],
          "name": "stdout"
        }
      ]
    },
    {
      "cell_type": "code",
      "metadata": {
        "colab": {
          "base_uri": "https://localhost:8080/"
        },
        "id": "OV8C1co0Uk47",
        "outputId": "7d62dd0a-5e15-4193-94de-77a57b8d77eb"
      },
      "source": [
        "y_train_predict = model.predict(x_train_new[:,:784])\n",
        "y_train_predict.shape"
      ],
      "execution_count": 131,
      "outputs": [
        {
          "output_type": "execute_result",
          "data": {
            "text/plain": [
              "(20000, 10)"
            ]
          },
          "metadata": {
            "tags": []
          },
          "execution_count": 131
        }
      ]
    },
    {
      "cell_type": "code",
      "metadata": {
        "colab": {
          "base_uri": "https://localhost:8080/"
        },
        "id": "IXt3r7ayy-lv",
        "outputId": "552e0975-3b16-40ab-d885-9c478e769d1f"
      },
      "source": [
        "y_train_predict[0]"
      ],
      "execution_count": 132,
      "outputs": [
        {
          "output_type": "execute_result",
          "data": {
            "text/plain": [
              "array([9.99805510e-01, 1.09994566e-11, 1.16917169e-08, 7.05988490e-13,\n",
              "       1.46751208e-10, 1.92718639e-04, 1.76096421e-06, 9.93966454e-12,\n",
              "       2.22715429e-10, 2.57098336e-11], dtype=float32)"
            ]
          },
          "metadata": {
            "tags": []
          },
          "execution_count": 132
        }
      ]
    },
    {
      "cell_type": "code",
      "metadata": {
        "id": "V7yKesjOzTU4"
      },
      "source": [
        "y_train_predict /= 255"
      ],
      "execution_count": 133,
      "outputs": []
    },
    {
      "cell_type": "code",
      "metadata": {
        "colab": {
          "base_uri": "https://localhost:8080/"
        },
        "id": "T7qb8DIqz4CC",
        "outputId": "447d4ffe-66df-404d-8574-58544d0609ba"
      },
      "source": [
        "y_train_predict[0]"
      ],
      "execution_count": 134,
      "outputs": [
        {
          "output_type": "execute_result",
          "data": {
            "text/plain": [
              "array([3.92080611e-03, 4.31351223e-14, 4.58498690e-11, 2.76858225e-15,\n",
              "       5.75494947e-13, 7.55759345e-07, 6.90574220e-09, 3.89790773e-14,\n",
              "       8.73393859e-13, 1.00822874e-13], dtype=float32)"
            ]
          },
          "metadata": {
            "tags": []
          },
          "execution_count": 134
        }
      ]
    },
    {
      "cell_type": "code",
      "metadata": {
        "colab": {
          "base_uri": "https://localhost:8080/"
        },
        "id": "AFQ2kTbpz8GL",
        "outputId": "00b03557-9847-4335-f7e9-a3015aeb2853"
      },
      "source": [
        "x_train_sum = np.zeros((y_train_predict.shape[0],y_train_predict.shape[1]+1))\n",
        "x_train_sum.shape"
      ],
      "execution_count": 135,
      "outputs": [
        {
          "output_type": "execute_result",
          "data": {
            "text/plain": [
              "(20000, 11)"
            ]
          },
          "metadata": {
            "tags": []
          },
          "execution_count": 135
        }
      ]
    },
    {
      "cell_type": "code",
      "metadata": {
        "colab": {
          "base_uri": "https://localhost:8080/"
        },
        "id": "B1Vr2-Q45plQ",
        "outputId": "c74213a8-b159-41f7-cd21-9e196781360a"
      },
      "source": [
        "y_test_sum=y_test_new_1/255\n",
        "y_test_sum[0]"
      ],
      "execution_count": 136,
      "outputs": [
        {
          "output_type": "execute_result",
          "data": {
            "text/plain": [
              "array([0.        , 0.        , 0.        , 0.        , 0.        ,\n",
              "       0.        , 0.        , 0.00392157, 0.        , 0.        ],\n",
              "      dtype=float32)"
            ]
          },
          "metadata": {
            "tags": []
          },
          "execution_count": 136
        }
      ]
    },
    {
      "cell_type": "code",
      "metadata": {
        "colab": {
          "base_uri": "https://localhost:8080/"
        },
        "id": "nwrAC_tv5PB3",
        "outputId": "ed60d8f7-2cbe-448a-97e3-65271da96c35"
      },
      "source": [
        "x_test_sum = np.zeros((y_test_sum.shape[0],y_test_sum.shape[1]+1))\n",
        "x_test_sum.shape"
      ],
      "execution_count": 137,
      "outputs": [
        {
          "output_type": "execute_result",
          "data": {
            "text/plain": [
              "(10000, 11)"
            ]
          },
          "metadata": {
            "tags": []
          },
          "execution_count": 137
        }
      ]
    },
    {
      "cell_type": "code",
      "metadata": {
        "colab": {
          "base_uri": "https://localhost:8080/"
        },
        "id": "uPeUjcXk2eiA",
        "outputId": "0f9ba995-cd7a-46be-b5b3-afb0054f8118"
      },
      "source": [
        "y_train_predict.shape"
      ],
      "execution_count": 138,
      "outputs": [
        {
          "output_type": "execute_result",
          "data": {
            "text/plain": [
              "(20000, 10)"
            ]
          },
          "metadata": {
            "tags": []
          },
          "execution_count": 138
        }
      ]
    },
    {
      "cell_type": "code",
      "metadata": {
        "colab": {
          "base_uri": "https://localhost:8080/"
        },
        "id": "aqbvNFuc2jW5",
        "outputId": "d2272d7b-11f5-406a-9685-67c1e95633d8"
      },
      "source": [
        "x_train_new[:,784:].shape"
      ],
      "execution_count": 139,
      "outputs": [
        {
          "output_type": "execute_result",
          "data": {
            "text/plain": [
              "(20000, 1)"
            ]
          },
          "metadata": {
            "tags": []
          },
          "execution_count": 139
        }
      ]
    },
    {
      "cell_type": "code",
      "metadata": {
        "colab": {
          "base_uri": "https://localhost:8080/"
        },
        "id": "9a-8Hxs41yYe",
        "outputId": "62ea1783-c270-46a5-ce7a-926a32a7f363"
      },
      "source": [
        "x_train_sum = np.append(y_train_predict,x_train_new[:,784:], axis=1)\n",
        "x_train_sum.shape"
      ],
      "execution_count": 140,
      "outputs": [
        {
          "output_type": "execute_result",
          "data": {
            "text/plain": [
              "(20000, 11)"
            ]
          },
          "metadata": {
            "tags": []
          },
          "execution_count": 140
        }
      ]
    },
    {
      "cell_type": "code",
      "metadata": {
        "colab": {
          "base_uri": "https://localhost:8080/"
        },
        "id": "QgppPKsL9CYL",
        "outputId": "a8ef1465-c0a6-4231-da76-91fb8e1ad932"
      },
      "source": [
        "y_test_new_1[0]"
      ],
      "execution_count": 141,
      "outputs": [
        {
          "output_type": "execute_result",
          "data": {
            "text/plain": [
              "array([0., 0., 0., 0., 0., 0., 0., 1., 0., 0.], dtype=float32)"
            ]
          },
          "metadata": {
            "tags": []
          },
          "execution_count": 141
        }
      ]
    },
    {
      "cell_type": "code",
      "metadata": {
        "colab": {
          "base_uri": "https://localhost:8080/"
        },
        "id": "dFpZkadB6EUJ",
        "outputId": "26db4336-7978-466e-a00b-3be531e475dd"
      },
      "source": [
        "x_test_sum = np.append(y_test_sum,x_test_new[:,784:], axis=1)\n",
        "x_test_sum.shape"
      ],
      "execution_count": 142,
      "outputs": [
        {
          "output_type": "execute_result",
          "data": {
            "text/plain": [
              "(10000, 11)"
            ]
          },
          "metadata": {
            "tags": []
          },
          "execution_count": 142
        }
      ]
    },
    {
      "cell_type": "code",
      "metadata": {
        "colab": {
          "base_uri": "https://localhost:8080/"
        },
        "id": "ik9dsLkK-QT7",
        "outputId": "c8113333-441a-4bd6-c5d4-8979fcdf88f9"
      },
      "source": [
        "x_test_sum[0]"
      ],
      "execution_count": 143,
      "outputs": [
        {
          "output_type": "execute_result",
          "data": {
            "text/plain": [
              "array([0.        , 0.        , 0.        , 0.        , 0.        ,\n",
              "       0.        , 0.        , 0.00392157, 0.        , 0.        ,\n",
              "       0.        ], dtype=float32)"
            ]
          },
          "metadata": {
            "tags": []
          },
          "execution_count": 143
        }
      ]
    },
    {
      "cell_type": "code",
      "metadata": {
        "colab": {
          "base_uri": "https://localhost:8080/"
        },
        "id": "7i-VodSj2vaH",
        "outputId": "1cd62305-79bc-4639-d435-3de31b70547d"
      },
      "source": [
        "#verifying one of the outputs\n",
        "x_train_sum[0]"
      ],
      "execution_count": 144,
      "outputs": [
        {
          "output_type": "execute_result",
          "data": {
            "text/plain": [
              "array([3.92080611e-03, 4.31351223e-14, 4.58498690e-11, 2.76858225e-15,\n",
              "       5.75494947e-13, 7.55759345e-07, 6.90574220e-09, 3.89790773e-14,\n",
              "       8.73393859e-13, 1.00822874e-13, 1.17647061e-02], dtype=float32)"
            ]
          },
          "metadata": {
            "tags": []
          },
          "execution_count": 144
        }
      ]
    },
    {
      "cell_type": "code",
      "metadata": {
        "id": "Z9tYSLVg26k2"
      },
      "source": [
        "Inp = tf.keras.Input(shape=(11,), name=\"Inp\")\n",
        "x = Dense(n_hidden_1, activation='relu', name = \"Hidden_Layer_1\")(Inp)\n",
        "x = Dense(n_hidden_2, activation='relu', name = \"Hidden_Layer_2\")(x)\n",
        "#x = Dense(n_hidden_3, activation='relu', name = \"Hidden_Layer_3\")(x)\n",
        "#x = Dense(n_hidden_4, activation='relu', name = \"Hidden_Layer_4\")(x)\n",
        "output_sum = Dense(num_digits_2, activation='softmax', name = \"output_sum\")(x)"
      ],
      "execution_count": 145,
      "outputs": []
    },
    {
      "cell_type": "code",
      "metadata": {
        "colab": {
          "base_uri": "https://localhost:8080/"
        },
        "id": "G6a-ZyZ04awS",
        "outputId": "c757fd05-5e37-4cb6-cb4e-e2124940f510"
      },
      "source": [
        "model = tf.keras.Model(Inp, output_sum)\n",
        "model.summary() "
      ],
      "execution_count": 146,
      "outputs": [
        {
          "output_type": "stream",
          "text": [
            "Model: \"model_4\"\n",
            "_________________________________________________________________\n",
            "Layer (type)                 Output Shape              Param #   \n",
            "=================================================================\n",
            "Inp (InputLayer)             [(None, 11)]              0         \n",
            "_________________________________________________________________\n",
            "Hidden_Layer_1 (Dense)       (None, 300)               3600      \n",
            "_________________________________________________________________\n",
            "Hidden_Layer_2 (Dense)       (None, 100)               30100     \n",
            "_________________________________________________________________\n",
            "output_sum (Dense)           (None, 19)                1919      \n",
            "=================================================================\n",
            "Total params: 35,619\n",
            "Trainable params: 35,619\n",
            "Non-trainable params: 0\n",
            "_________________________________________________________________\n"
          ],
          "name": "stdout"
        }
      ]
    },
    {
      "cell_type": "code",
      "metadata": {
        "colab": {
          "base_uri": "https://localhost:8080/"
        },
        "id": "55zm4LJdEMjr",
        "outputId": "9239837b-eb19-4168-966c-abe952ead581"
      },
      "source": [
        "# Insert Hyperparameters\n",
        "learning_rate = 0.001\n",
        "training_epochs = 15\n",
        "batch_size = 100\n",
        "adam = tf.keras.optimizers.Adam(lr=learning_rate)"
      ],
      "execution_count": 147,
      "outputs": [
        {
          "output_type": "stream",
          "text": [
            "/usr/local/lib/python3.7/dist-packages/tensorflow/python/keras/optimizer_v2/optimizer_v2.py:375: UserWarning: The `lr` argument is deprecated, use `learning_rate` instead.\n",
            "  \"The `lr` argument is deprecated, use `learning_rate` instead.\")\n"
          ],
          "name": "stderr"
        }
      ]
    },
    {
      "cell_type": "code",
      "metadata": {
        "id": "2kDagoeb4kxX"
      },
      "source": [
        "model.compile(loss='categorical_crossentropy',\n",
        "              optimizer='adam',\n",
        "              metrics=['accuracy'])"
      ],
      "execution_count": 148,
      "outputs": []
    },
    {
      "cell_type": "code",
      "metadata": {
        "colab": {
          "base_uri": "https://localhost:8080/"
        },
        "id": "qiTN5LL74srF",
        "outputId": "d6627c32-a163-471c-a732-243b7283089e"
      },
      "source": [
        "history1 = model.fit(x_train_sum, y_train_new_2,\n",
        "                     batch_size = batch_size,\n",
        "                     epochs = training_epochs,\n",
        "                     verbose = 2,\n",
        "                     validation_data=(x_test_sum, y_test_new_2))"
      ],
      "execution_count": 149,
      "outputs": [
        {
          "output_type": "stream",
          "text": [
            "Epoch 1/15\n",
            "200/200 - 1s - loss: 2.8168 - accuracy: 0.0999 - val_loss: 2.7846 - val_accuracy: 0.1003\n",
            "Epoch 2/15\n",
            "200/200 - 1s - loss: 2.7123 - accuracy: 0.0993 - val_loss: 2.5613 - val_accuracy: 0.1093\n",
            "Epoch 3/15\n",
            "200/200 - 1s - loss: 2.3774 - accuracy: 0.1535 - val_loss: 2.2288 - val_accuracy: 0.1732\n",
            "Epoch 4/15\n",
            "200/200 - 1s - loss: 2.1073 - accuracy: 0.2389 - val_loss: 1.9924 - val_accuracy: 0.2461\n",
            "Epoch 5/15\n",
            "200/200 - 1s - loss: 1.8917 - accuracy: 0.3338 - val_loss: 1.7911 - val_accuracy: 0.3473\n",
            "Epoch 6/15\n",
            "200/200 - 1s - loss: 1.7053 - accuracy: 0.4375 - val_loss: 1.6168 - val_accuracy: 0.5576\n",
            "Epoch 7/15\n",
            "200/200 - 1s - loss: 1.5436 - accuracy: 0.5602 - val_loss: 1.4673 - val_accuracy: 0.5749\n",
            "Epoch 8/15\n",
            "200/200 - 1s - loss: 1.4061 - accuracy: 0.6185 - val_loss: 1.3434 - val_accuracy: 0.6919\n",
            "Epoch 9/15\n",
            "200/200 - 1s - loss: 1.2842 - accuracy: 0.7334 - val_loss: 1.2284 - val_accuracy: 0.8296\n",
            "Epoch 10/15\n",
            "200/200 - 1s - loss: 1.1764 - accuracy: 0.7933 - val_loss: 1.1255 - val_accuracy: 0.8495\n",
            "Epoch 11/15\n",
            "200/200 - 1s - loss: 1.0798 - accuracy: 0.8556 - val_loss: 1.0316 - val_accuracy: 0.9315\n",
            "Epoch 12/15\n",
            "200/200 - 1s - loss: 0.9934 - accuracy: 0.8876 - val_loss: 0.9536 - val_accuracy: 0.9370\n",
            "Epoch 13/15\n",
            "200/200 - 1s - loss: 0.9139 - accuracy: 0.9373 - val_loss: 0.8839 - val_accuracy: 0.8844\n",
            "Epoch 14/15\n",
            "200/200 - 1s - loss: 0.8399 - accuracy: 0.9651 - val_loss: 0.8121 - val_accuracy: 0.8986\n",
            "Epoch 15/15\n",
            "200/200 - 1s - loss: 0.7737 - accuracy: 0.9780 - val_loss: 0.7376 - val_accuracy: 0.9889\n"
          ],
          "name": "stdout"
        }
      ]
    },
    {
      "cell_type": "code",
      "metadata": {
        "id": "w2tmeaIjOoJW"
      },
      "source": [
        "y_sum_predict = model.predict(x_test_sum)"
      ],
      "execution_count": 150,
      "outputs": []
    },
    {
      "cell_type": "code",
      "metadata": {
        "colab": {
          "base_uri": "https://localhost:8080/"
        },
        "id": "-xBlWZxOQau1",
        "outputId": "4966c8ab-c4cd-4947-d4e5-d7c6486aaf59"
      },
      "source": [
        "y_sum_predict"
      ],
      "execution_count": 151,
      "outputs": [
        {
          "output_type": "execute_result",
          "data": {
            "text/plain": [
              "array([[1.6711248e-19, 2.5723186e-15, 6.0204014e-10, ..., 3.8134782e-30,\n",
              "        2.4433338e-36, 0.0000000e+00],\n",
              "       [5.4183317e-08, 1.9327555e-05, 8.6119464e-03, ..., 0.0000000e+00,\n",
              "        0.0000000e+00, 0.0000000e+00],\n",
              "       [1.2020197e-11, 1.6657062e-08, 7.1039300e-05, ..., 0.0000000e+00,\n",
              "        0.0000000e+00, 0.0000000e+00],\n",
              "       ...,\n",
              "       [0.0000000e+00, 0.0000000e+00, 0.0000000e+00, ..., 9.8409673e-06,\n",
              "        1.8590388e-08, 7.4781382e-11],\n",
              "       [0.0000000e+00, 0.0000000e+00, 0.0000000e+00, ..., 2.3156481e-03,\n",
              "        1.9168036e-05, 1.9376029e-07],\n",
              "       [9.7480702e-16, 5.4837558e-12, 2.2373673e-07, ..., 3.3311490e-36,\n",
              "        0.0000000e+00, 0.0000000e+00]], dtype=float32)"
            ]
          },
          "metadata": {
            "tags": []
          },
          "execution_count": 151
        }
      ]
    },
    {
      "cell_type": "code",
      "metadata": {
        "colab": {
          "base_uri": "https://localhost:8080/"
        },
        "id": "vxGDevL-QjK9",
        "outputId": "d83170ae-6ebf-4cc5-bd28-8091b5409da9"
      },
      "source": [
        "y_test_new_2[0]"
      ],
      "execution_count": 153,
      "outputs": [
        {
          "output_type": "execute_result",
          "data": {
            "text/plain": [
              "array([0., 0., 0., 0., 0., 0., 0., 1., 0., 0., 0., 0., 0., 0., 0., 0., 0.,\n",
              "       0., 0.], dtype=float32)"
            ]
          },
          "metadata": {
            "tags": []
          },
          "execution_count": 153
        }
      ]
    },
    {
      "cell_type": "code",
      "metadata": {
        "colab": {
          "base_uri": "https://localhost:8080/",
          "height": 419
        },
        "id": "TNo52e23QoEj",
        "outputId": "dfbdd41a-b3ca-4ecd-baa6-6e72332bfaff"
      },
      "source": [
        "import pandas as pd\n",
        "df_y = pd.DataFrame(columns=['actual','predicted'])\n",
        "df_y.actual = np.argmax(y_test_new_2,axis=-1)\n",
        "df_y.predicted = np.argmax(y_sum_predict,axis=-1)\n",
        "df_y"
      ],
      "execution_count": 154,
      "outputs": [
        {
          "output_type": "execute_result",
          "data": {
            "text/html": [
              "<div>\n",
              "<style scoped>\n",
              "    .dataframe tbody tr th:only-of-type {\n",
              "        vertical-align: middle;\n",
              "    }\n",
              "\n",
              "    .dataframe tbody tr th {\n",
              "        vertical-align: top;\n",
              "    }\n",
              "\n",
              "    .dataframe thead th {\n",
              "        text-align: right;\n",
              "    }\n",
              "</style>\n",
              "<table border=\"1\" class=\"dataframe\">\n",
              "  <thead>\n",
              "    <tr style=\"text-align: right;\">\n",
              "      <th></th>\n",
              "      <th>actual</th>\n",
              "      <th>predicted</th>\n",
              "    </tr>\n",
              "  </thead>\n",
              "  <tbody>\n",
              "    <tr>\n",
              "      <th>0</th>\n",
              "      <td>7</td>\n",
              "      <td>7</td>\n",
              "    </tr>\n",
              "    <tr>\n",
              "      <th>1</th>\n",
              "      <td>4</td>\n",
              "      <td>4</td>\n",
              "    </tr>\n",
              "    <tr>\n",
              "      <th>2</th>\n",
              "      <td>5</td>\n",
              "      <td>5</td>\n",
              "    </tr>\n",
              "    <tr>\n",
              "      <th>3</th>\n",
              "      <td>2</td>\n",
              "      <td>2</td>\n",
              "    </tr>\n",
              "    <tr>\n",
              "      <th>4</th>\n",
              "      <td>13</td>\n",
              "      <td>13</td>\n",
              "    </tr>\n",
              "    <tr>\n",
              "      <th>...</th>\n",
              "      <td>...</td>\n",
              "      <td>...</td>\n",
              "    </tr>\n",
              "    <tr>\n",
              "      <th>9995</th>\n",
              "      <td>5</td>\n",
              "      <td>5</td>\n",
              "    </tr>\n",
              "    <tr>\n",
              "      <th>9996</th>\n",
              "      <td>7</td>\n",
              "      <td>7</td>\n",
              "    </tr>\n",
              "    <tr>\n",
              "      <th>9997</th>\n",
              "      <td>13</td>\n",
              "      <td>13</td>\n",
              "    </tr>\n",
              "    <tr>\n",
              "      <th>9998</th>\n",
              "      <td>14</td>\n",
              "      <td>14</td>\n",
              "    </tr>\n",
              "    <tr>\n",
              "      <th>9999</th>\n",
              "      <td>6</td>\n",
              "      <td>6</td>\n",
              "    </tr>\n",
              "  </tbody>\n",
              "</table>\n",
              "<p>10000 rows × 2 columns</p>\n",
              "</div>"
            ],
            "text/plain": [
              "      actual  predicted\n",
              "0          7          7\n",
              "1          4          4\n",
              "2          5          5\n",
              "3          2          2\n",
              "4         13         13\n",
              "...      ...        ...\n",
              "9995       5          5\n",
              "9996       7          7\n",
              "9997      13         13\n",
              "9998      14         14\n",
              "9999       6          6\n",
              "\n",
              "[10000 rows x 2 columns]"
            ]
          },
          "metadata": {
            "tags": []
          },
          "execution_count": 154
        }
      ]
    }
  ]
}